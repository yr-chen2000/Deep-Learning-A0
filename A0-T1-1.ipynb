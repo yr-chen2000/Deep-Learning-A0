{
 "cells": [
  {
   "cell_type": "code",
   "execution_count": 1,
   "metadata": {},
   "outputs": [],
   "source": [
    "import numpy as np\n",
    "import pandas as pd\n",
    "\n",
    "#Load the data\n",
    "train_in = pd.read_csv('train_in - Copy.csv', header=None)\n",
    "train_out = pd.read_csv('train_out - Copy.csv', header=None)\n",
    "\n",
    "# Convert data to numpy arrays\n",
    "train_in= train_in.to_numpy()\n",
    "train_out = train_out.to_numpy().flatten()"
   ]
  },
  {
   "cell_type": "code",
   "execution_count": 2,
   "metadata": {},
   "outputs": [],
   "source": [
    "#Seperate different numbers\n",
    "\n",
    "Seperate_list=np.empty(10, dtype=object)\n",
    "Seperate_list[:]=[[] for _ in range(10)]\n",
    "\n",
    "for i in range(len(train_out)):\n",
    "    Seperate_list[train_out[i]].append(train_in[i])"
   ]
  },
  {
   "cell_type": "code",
   "execution_count": 3,
   "metadata": {},
   "outputs": [],
   "source": [
    "#Calculate the centers\n",
    "\n",
    "Centers=np.empty(10, dtype=object)\n",
    "for i in range(len(Seperate_list)):\n",
    "    Centers[i]=np.mean(Seperate_list[i], axis=0)"
   ]
  },
  {
   "cell_type": "code",
   "execution_count": 4,
   "metadata": {},
   "outputs": [
    {
     "name": "stdout",
     "output_type": "stream",
     "text": [
      "[[ 0.         14.44960797  9.33455587  9.14373367 10.76984444  7.51929626\n",
      "   8.15444313 11.86455505  9.90790174 11.48887494]\n",
      " [14.44960797  0.         10.12532258 11.7332329  10.17378643 11.11880041\n",
      "  10.61470037 10.74315367 10.08677677  9.9320937 ]\n",
      " [ 9.33455587 10.12532258  0.          8.17828489  7.93254148  7.90679632\n",
      "   7.33180754  8.87253107  7.07751618  8.88774785]\n",
      " [ 9.14373367 11.7332329   8.17828489  0.          9.0876078   6.11875002\n",
      "   9.30206473  8.92240093  7.02042489  8.35435012]\n",
      " [10.76984444 10.17378643  7.93254148  9.0876078   0.          8.00151741\n",
      "   8.78223265  7.58301228  7.38090899  6.01040793]\n",
      " [ 7.51929626 11.11880041  7.90679632  6.11875002  8.00151741  0.\n",
      "   6.69869172  9.21195402  6.96738648  8.25853807]\n",
      " [ 8.15444313 10.61470037  7.33180754  9.30206473  8.78223265  6.69869172\n",
      "   0.         10.8882374   8.58722228 10.44000352]\n",
      " [11.86455505 10.74315367  8.87253107  8.92240093  7.58301228  9.21195402\n",
      "  10.8882374   0.          8.4677853   5.42647412]\n",
      " [ 9.90790174 10.08677677  7.07751618  7.02042489  7.38090899  6.96738648\n",
      "   8.58722228  8.4677853   0.          6.40116587]\n",
      " [11.48887494  9.9320937   8.88774785  8.35435012  6.01040793  8.25853807\n",
      "  10.44000352  5.42647412  6.40116587  0.        ]]\n"
     ]
    }
   ],
   "source": [
    "#Calculate the distances\n",
    "\n",
    "dist=np.zeros((10,10))\n",
    "for i in range(10):\n",
    "    for j in range(10):\n",
    "        dist[i][j]=np.linalg.norm(Centers[i]-Centers[j])\n",
    "\n",
    "print(dist)"
   ]
  },
  {
   "cell_type": "code",
   "execution_count": 5,
   "metadata": {},
   "outputs": [
    {
     "name": "stdout",
     "output_type": "stream",
     "text": [
      "(array([7, 9]), array([9, 7]))\n"
     ]
    }
   ],
   "source": [
    "#Find the closest pair\n",
    "\n",
    "Closest_num=np.min(dist[np.nonzero(dist)])\n",
    "Closest_pair=np.where(dist==Closest_num)\n",
    "\n",
    "print(Closest_pair)"
   ]
  }
 ],
 "metadata": {
  "kernelspec": {
   "display_name": "IDL",
   "language": "python",
   "name": "python3"
  },
  "language_info": {
   "codemirror_mode": {
    "name": "ipython",
    "version": 3
   },
   "file_extension": ".py",
   "mimetype": "text/x-python",
   "name": "python",
   "nbconvert_exporter": "python",
   "pygments_lexer": "ipython3",
   "version": "3.9.19"
  }
 },
 "nbformat": 4,
 "nbformat_minor": 2
}
